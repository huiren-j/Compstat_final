{
 "cells": [
  {
   "cell_type": "markdown",
   "metadata": {},
   "source": [
    "---  \n",
    "Final Project for Computational Statistics | Summer 2022, M.Sc. Economics, University of Bonn | Hyein Jeong\n",
    "# Random Forest and Its Application: Bogan and Fernandez (2017) <a class= \"tocSkip\">\n",
    "---"
   ]
  },
  {
   "cell_type": "code",
   "execution_count": 17,
   "metadata": {},
   "outputs": [],
   "source": [
    "suppressWarnings({\n",
    "library(grf)\n",
    "library(stats)\n",
    "library(MASS)\n",
    "library(sandwich)\n",
    "library(lmtest)\n",
    "library(dplyr)\n",
    "library(haven)\n",
    "    })"
   ]
  },
  {
   "cell_type": "code",
   "execution_count": 28,
   "metadata": {},
   "outputs": [],
   "source": [
    "# original data \n",
    "df <- read_dta(\"../boganetal_data/P2017_1145_data/Data_BoganFernandezAER.dta\")"
   ]
  },
  {
   "cell_type": "markdown",
   "metadata": {},
   "source": [
    "<h4 align='center'>$OWN_{it} = \\beta_{0} + \\beta_{1}SpecialNeeds_{it} + \\beta_{k}\\bar X_{it} + \\beta_{h}Z_{it} + \\eta_{t} + \\epsilon_{it}$</h4>  \n",
    "  \n",
    "where $OWN_{it}$ and $SpecialNeeds_{it}$ is a binary variable,"
   ]
  },
  {
   "cell_type": "code",
   "execution_count": 29,
   "metadata": {
    "scrolled": true
   },
   "outputs": [
    {
     "data": {
      "text/html": [
       "<table>\n",
       "<thead><tr><th scope=col>year</th><th scope=col>hhid</th><th scope=col>valuepension</th><th scope=col>AGEOFHEAD_</th><th scope=col>CHHHWT</th><th scope=col>EDUCHD_</th><th scope=col>EXPECTEDEDUC</th><th scope=col>HEALTHHD</th><th scope=col>IMPCHKSAV2_</th><th scope=col>IMPCHKSAV_</th><th scope=col>...</th><th scope=col>regnum</th><th scope=col>specialneeds2</th><th scope=col>specialneeds4</th><th scope=col>_Iyear_1999</th><th scope=col>_Iyear_2001</th><th scope=col>_Iyear_2003</th><th scope=col>_Iyear_2005</th><th scope=col>_Iyear_2007</th><th scope=col>_Iyear_2009</th><th scope=col>_Iyear_2011</th></tr></thead>\n",
       "<tbody>\n",
       "\t<tr><td>2001     </td><td>1        </td><td> 0       </td><td>57       </td><td> 9.966   </td><td>14       </td><td>2        </td><td>3        </td><td>1        </td><td> 1905.594</td><td>...      </td><td>3        </td><td>0        </td><td>1        </td><td>0        </td><td>1        </td><td>0        </td><td>0        </td><td>0        </td><td>0        </td><td>0        </td></tr>\n",
       "\t<tr><td>2003     </td><td>1        </td><td> 0       </td><td>59       </td><td> 9.966   </td><td>14       </td><td>2        </td><td>3        </td><td>1        </td><td>24453.566</td><td>...      </td><td>3        </td><td>0        </td><td>1        </td><td>0        </td><td>0        </td><td>1        </td><td>0        </td><td>0        </td><td>0        </td><td>0        </td></tr>\n",
       "\t<tr><td>1999     </td><td>2        </td><td> 0       </td><td>39       </td><td>25.468   </td><td>12       </td><td>6        </td><td>2        </td><td>1        </td><td>16204.040</td><td>...      </td><td>3        </td><td>0        </td><td>0        </td><td>1        </td><td>0        </td><td>0        </td><td>0        </td><td>0        </td><td>0        </td><td>0        </td></tr>\n",
       "\t<tr><td>2001     </td><td>2        </td><td>NA       </td><td>41       </td><td>25.468   </td><td>12       </td><td>6        </td><td>2        </td><td>1        </td><td>19055.939</td><td>...      </td><td>3        </td><td>0        </td><td>0        </td><td>0        </td><td>1        </td><td>0        </td><td>0        </td><td>0        </td><td>0        </td><td>0        </td></tr>\n",
       "\t<tr><td>2005     </td><td>2        </td><td> 0       </td><td>45       </td><td>25.468   </td><td>12       </td><td>6        </td><td>2        </td><td>1        </td><td>23036.514</td><td>...      </td><td>3        </td><td>0        </td><td>0        </td><td>0        </td><td>0        </td><td>0        </td><td>1        </td><td>0        </td><td>0        </td><td>0        </td></tr>\n",
       "</tbody>\n",
       "</table>\n"
      ],
      "text/latex": [
       "\\begin{tabular}{r|lllllllllllllllllllllllllllllllllllllllllllllllllllllllllllllllllllll}\n",
       " year & hhid & valuepension & AGEOFHEAD\\_ & CHHHWT & EDUCHD\\_ & EXPECTEDEDUC & HEALTHHD & IMPCHKSAV2\\_ & IMPCHKSAV\\_ & ... & regnum & specialneeds2 & specialneeds4 & \\_Iyear\\_1999 & \\_Iyear\\_2001 & \\_Iyear\\_2003 & \\_Iyear\\_2005 & \\_Iyear\\_2007 & \\_Iyear\\_2009 & \\_Iyear\\_2011\\\\\n",
       "\\hline\n",
       "\t 2001      & 1         &  0        & 57        &  9.966    & 14        & 2         & 3         & 1         &  1905.594 & ...       & 3         & 0         & 1         & 0         & 1         & 0         & 0         & 0         & 0         & 0        \\\\\n",
       "\t 2003      & 1         &  0        & 59        &  9.966    & 14        & 2         & 3         & 1         & 24453.566 & ...       & 3         & 0         & 1         & 0         & 0         & 1         & 0         & 0         & 0         & 0        \\\\\n",
       "\t 1999      & 2         &  0        & 39        & 25.468    & 12        & 6         & 2         & 1         & 16204.040 & ...       & 3         & 0         & 0         & 1         & 0         & 0         & 0         & 0         & 0         & 0        \\\\\n",
       "\t 2001      & 2         & NA        & 41        & 25.468    & 12        & 6         & 2         & 1         & 19055.939 & ...       & 3         & 0         & 0         & 0         & 1         & 0         & 0         & 0         & 0         & 0        \\\\\n",
       "\t 2005      & 2         &  0        & 45        & 25.468    & 12        & 6         & 2         & 1         & 23036.514 & ...       & 3         & 0         & 0         & 0         & 0         & 0         & 1         & 0         & 0         & 0        \\\\\n",
       "\\end{tabular}\n"
      ],
      "text/markdown": [
       "\n",
       "| year | hhid | valuepension | AGEOFHEAD_ | CHHHWT | EDUCHD_ | EXPECTEDEDUC | HEALTHHD | IMPCHKSAV2_ | IMPCHKSAV_ | ... | regnum | specialneeds2 | specialneeds4 | _Iyear_1999 | _Iyear_2001 | _Iyear_2003 | _Iyear_2005 | _Iyear_2007 | _Iyear_2009 | _Iyear_2011 |\n",
       "|---|---|---|---|---|---|---|---|---|---|---|---|---|---|---|---|---|---|---|---|---|\n",
       "| 2001      | 1         |  0        | 57        |  9.966    | 14        | 2         | 3         | 1         |  1905.594 | ...       | 3         | 0         | 1         | 0         | 1         | 0         | 0         | 0         | 0         | 0         |\n",
       "| 2003      | 1         |  0        | 59        |  9.966    | 14        | 2         | 3         | 1         | 24453.566 | ...       | 3         | 0         | 1         | 0         | 0         | 1         | 0         | 0         | 0         | 0         |\n",
       "| 1999      | 2         |  0        | 39        | 25.468    | 12        | 6         | 2         | 1         | 16204.040 | ...       | 3         | 0         | 0         | 1         | 0         | 0         | 0         | 0         | 0         | 0         |\n",
       "| 2001      | 2         | NA        | 41        | 25.468    | 12        | 6         | 2         | 1         | 19055.939 | ...       | 3         | 0         | 0         | 0         | 1         | 0         | 0         | 0         | 0         | 0         |\n",
       "| 2005      | 2         |  0        | 45        | 25.468    | 12        | 6         | 2         | 1         | 23036.514 | ...       | 3         | 0         | 0         | 0         | 0         | 0         | 1         | 0         | 0         | 0         |\n",
       "\n"
      ],
      "text/plain": [
       "  year hhid valuepension AGEOFHEAD_ CHHHWT EDUCHD_ EXPECTEDEDUC HEALTHHD\n",
       "1 2001 1     0           57          9.966 14      2            3       \n",
       "2 2003 1     0           59          9.966 14      2            3       \n",
       "3 1999 2     0           39         25.468 12      6            2       \n",
       "4 2001 2    NA           41         25.468 12      6            2       \n",
       "5 2005 2     0           45         25.468 12      6            2       \n",
       "  IMPCHKSAV2_ IMPCHKSAV_ ... regnum specialneeds2 specialneeds4 _Iyear_1999\n",
       "1 1            1905.594  ... 3      0             1             0          \n",
       "2 1           24453.566  ... 3      0             1             0          \n",
       "3 1           16204.040  ... 3      0             0             1          \n",
       "4 1           19055.939  ... 3      0             0             0          \n",
       "5 1           23036.514  ... 3      0             0             0          \n",
       "  _Iyear_2001 _Iyear_2003 _Iyear_2005 _Iyear_2007 _Iyear_2009 _Iyear_2011\n",
       "1 1           0           0           0           0           0          \n",
       "2 0           1           0           0           0           0          \n",
       "3 0           0           0           0           0           0          \n",
       "4 1           0           0           0           0           0          \n",
       "5 0           0           1           0           0           0          "
      ]
     },
     "metadata": {},
     "output_type": "display_data"
    }
   ],
   "source": [
    "# simulation\n",
    "head(df, 5)"
   ]
  },
  {
   "cell_type": "code",
   "execution_count": 30,
   "metadata": {},
   "outputs": [
    {
     "data": {
      "text/html": [
       "<ol class=list-inline>\n",
       "\t<li>'year'</li>\n",
       "\t<li>'hhid'</li>\n",
       "\t<li>'valuepension'</li>\n",
       "\t<li>'AGEOFHEAD_'</li>\n",
       "\t<li>'CHHHWT'</li>\n",
       "\t<li>'EDUCHD_'</li>\n",
       "\t<li>'EXPECTEDEDUC'</li>\n",
       "\t<li>'HEALTHHD'</li>\n",
       "\t<li>'IMPCHKSAV2_'</li>\n",
       "\t<li>'IMPCHKSAV_'</li>\n",
       "\t<li>'IMPIRA2_'</li>\n",
       "\t<li>'IMPIRA_'</li>\n",
       "\t<li>'IMPOTHASST_'</li>\n",
       "\t<li>'IMPOTHESTATE_'</li>\n",
       "\t<li>'IMPSTOCK_'</li>\n",
       "\t<li>'IMPWEALTHEQ_'</li>\n",
       "\t<li>'INHERITANCE_'</li>\n",
       "\t<li>'STATE_'</li>\n",
       "\t<li>'STOCKPROFIT_'</li>\n",
       "\t<li>'TOTFAMINCLY_'</li>\n",
       "\t<li>'IMPWTRCHSAV'</li>\n",
       "\t<li>'black'</li>\n",
       "\t<li>'female'</li>\n",
       "\t<li>'unemphd'</li>\n",
       "\t<li>'WTRCOMPUTERHD'</li>\n",
       "\t<li>'own1'</li>\n",
       "\t<li>'married'</li>\n",
       "\t<li>'young'</li>\n",
       "\t<li>'riskgrp1'</li>\n",
       "\t<li>'riskgrp2'</li>\n",
       "\t<li>'riskgrp3'</li>\n",
       "\t<li>'riskgrp4'</li>\n",
       "\t<li>'riskgrp5'</li>\n",
       "\t<li>'riskgrp6'</li>\n",
       "\t<li>'healthins'</li>\n",
       "\t<li>'benefitpension'</li>\n",
       "\t<li>'contributionpension'</li>\n",
       "\t<li>'BONDSPROFIT'</li>\n",
       "\t<li>'divorce'</li>\n",
       "\t<li>'manager'</li>\n",
       "\t<li>'finance'</li>\n",
       "\t<li>'IMPSTOCK2_'</li>\n",
       "\t<li>'grad'</li>\n",
       "\t<li>'onechild'</li>\n",
       "\t<li>'twochild'</li>\n",
       "\t<li>'threechild'</li>\n",
       "\t<li>'fourormorechild'</li>\n",
       "\t<li>'conditions2'</li>\n",
       "\t<li>'conditions'</li>\n",
       "\t<li>'WTRINHERITANCE'</li>\n",
       "\t<li>'regionNE'</li>\n",
       "\t<li>'regionMW'</li>\n",
       "\t<li>'regionS'</li>\n",
       "\t<li>'regionW'</li>\n",
       "\t<li>'TOTfinasset'</li>\n",
       "\t<li>'lninc'</li>\n",
       "\t<li>'pctstock1'</li>\n",
       "\t<li>'WTRBONDS'</li>\n",
       "\t<li>'pctbonds'</li>\n",
       "\t<li>'regnum'</li>\n",
       "\t<li>'specialneeds2'</li>\n",
       "\t<li>'specialneeds4'</li>\n",
       "\t<li>'_Iyear_1999'</li>\n",
       "\t<li>'_Iyear_2001'</li>\n",
       "\t<li>'_Iyear_2003'</li>\n",
       "\t<li>'_Iyear_2005'</li>\n",
       "\t<li>'_Iyear_2007'</li>\n",
       "\t<li>'_Iyear_2009'</li>\n",
       "\t<li>'_Iyear_2011'</li>\n",
       "</ol>\n"
      ],
      "text/latex": [
       "\\begin{enumerate*}\n",
       "\\item 'year'\n",
       "\\item 'hhid'\n",
       "\\item 'valuepension'\n",
       "\\item 'AGEOFHEAD\\_'\n",
       "\\item 'CHHHWT'\n",
       "\\item 'EDUCHD\\_'\n",
       "\\item 'EXPECTEDEDUC'\n",
       "\\item 'HEALTHHD'\n",
       "\\item 'IMPCHKSAV2\\_'\n",
       "\\item 'IMPCHKSAV\\_'\n",
       "\\item 'IMPIRA2\\_'\n",
       "\\item 'IMPIRA\\_'\n",
       "\\item 'IMPOTHASST\\_'\n",
       "\\item 'IMPOTHESTATE\\_'\n",
       "\\item 'IMPSTOCK\\_'\n",
       "\\item 'IMPWEALTHEQ\\_'\n",
       "\\item 'INHERITANCE\\_'\n",
       "\\item 'STATE\\_'\n",
       "\\item 'STOCKPROFIT\\_'\n",
       "\\item 'TOTFAMINCLY\\_'\n",
       "\\item 'IMPWTRCHSAV'\n",
       "\\item 'black'\n",
       "\\item 'female'\n",
       "\\item 'unemphd'\n",
       "\\item 'WTRCOMPUTERHD'\n",
       "\\item 'own1'\n",
       "\\item 'married'\n",
       "\\item 'young'\n",
       "\\item 'riskgrp1'\n",
       "\\item 'riskgrp2'\n",
       "\\item 'riskgrp3'\n",
       "\\item 'riskgrp4'\n",
       "\\item 'riskgrp5'\n",
       "\\item 'riskgrp6'\n",
       "\\item 'healthins'\n",
       "\\item 'benefitpension'\n",
       "\\item 'contributionpension'\n",
       "\\item 'BONDSPROFIT'\n",
       "\\item 'divorce'\n",
       "\\item 'manager'\n",
       "\\item 'finance'\n",
       "\\item 'IMPSTOCK2\\_'\n",
       "\\item 'grad'\n",
       "\\item 'onechild'\n",
       "\\item 'twochild'\n",
       "\\item 'threechild'\n",
       "\\item 'fourormorechild'\n",
       "\\item 'conditions2'\n",
       "\\item 'conditions'\n",
       "\\item 'WTRINHERITANCE'\n",
       "\\item 'regionNE'\n",
       "\\item 'regionMW'\n",
       "\\item 'regionS'\n",
       "\\item 'regionW'\n",
       "\\item 'TOTfinasset'\n",
       "\\item 'lninc'\n",
       "\\item 'pctstock1'\n",
       "\\item 'WTRBONDS'\n",
       "\\item 'pctbonds'\n",
       "\\item 'regnum'\n",
       "\\item 'specialneeds2'\n",
       "\\item 'specialneeds4'\n",
       "\\item '\\_Iyear\\_1999'\n",
       "\\item '\\_Iyear\\_2001'\n",
       "\\item '\\_Iyear\\_2003'\n",
       "\\item '\\_Iyear\\_2005'\n",
       "\\item '\\_Iyear\\_2007'\n",
       "\\item '\\_Iyear\\_2009'\n",
       "\\item '\\_Iyear\\_2011'\n",
       "\\end{enumerate*}\n"
      ],
      "text/markdown": [
       "1. 'year'\n",
       "2. 'hhid'\n",
       "3. 'valuepension'\n",
       "4. 'AGEOFHEAD_'\n",
       "5. 'CHHHWT'\n",
       "6. 'EDUCHD_'\n",
       "7. 'EXPECTEDEDUC'\n",
       "8. 'HEALTHHD'\n",
       "9. 'IMPCHKSAV2_'\n",
       "10. 'IMPCHKSAV_'\n",
       "11. 'IMPIRA2_'\n",
       "12. 'IMPIRA_'\n",
       "13. 'IMPOTHASST_'\n",
       "14. 'IMPOTHESTATE_'\n",
       "15. 'IMPSTOCK_'\n",
       "16. 'IMPWEALTHEQ_'\n",
       "17. 'INHERITANCE_'\n",
       "18. 'STATE_'\n",
       "19. 'STOCKPROFIT_'\n",
       "20. 'TOTFAMINCLY_'\n",
       "21. 'IMPWTRCHSAV'\n",
       "22. 'black'\n",
       "23. 'female'\n",
       "24. 'unemphd'\n",
       "25. 'WTRCOMPUTERHD'\n",
       "26. 'own1'\n",
       "27. 'married'\n",
       "28. 'young'\n",
       "29. 'riskgrp1'\n",
       "30. 'riskgrp2'\n",
       "31. 'riskgrp3'\n",
       "32. 'riskgrp4'\n",
       "33. 'riskgrp5'\n",
       "34. 'riskgrp6'\n",
       "35. 'healthins'\n",
       "36. 'benefitpension'\n",
       "37. 'contributionpension'\n",
       "38. 'BONDSPROFIT'\n",
       "39. 'divorce'\n",
       "40. 'manager'\n",
       "41. 'finance'\n",
       "42. 'IMPSTOCK2_'\n",
       "43. 'grad'\n",
       "44. 'onechild'\n",
       "45. 'twochild'\n",
       "46. 'threechild'\n",
       "47. 'fourormorechild'\n",
       "48. 'conditions2'\n",
       "49. 'conditions'\n",
       "50. 'WTRINHERITANCE'\n",
       "51. 'regionNE'\n",
       "52. 'regionMW'\n",
       "53. 'regionS'\n",
       "54. 'regionW'\n",
       "55. 'TOTfinasset'\n",
       "56. 'lninc'\n",
       "57. 'pctstock1'\n",
       "58. 'WTRBONDS'\n",
       "59. 'pctbonds'\n",
       "60. 'regnum'\n",
       "61. 'specialneeds2'\n",
       "62. 'specialneeds4'\n",
       "63. '_Iyear_1999'\n",
       "64. '_Iyear_2001'\n",
       "65. '_Iyear_2003'\n",
       "66. '_Iyear_2005'\n",
       "67. '_Iyear_2007'\n",
       "68. '_Iyear_2009'\n",
       "69. '_Iyear_2011'\n",
       "\n",
       "\n"
      ],
      "text/plain": [
       " [1] \"year\"                \"hhid\"                \"valuepension\"       \n",
       " [4] \"AGEOFHEAD_\"          \"CHHHWT\"              \"EDUCHD_\"            \n",
       " [7] \"EXPECTEDEDUC\"        \"HEALTHHD\"            \"IMPCHKSAV2_\"        \n",
       "[10] \"IMPCHKSAV_\"          \"IMPIRA2_\"            \"IMPIRA_\"            \n",
       "[13] \"IMPOTHASST_\"         \"IMPOTHESTATE_\"       \"IMPSTOCK_\"          \n",
       "[16] \"IMPWEALTHEQ_\"        \"INHERITANCE_\"        \"STATE_\"             \n",
       "[19] \"STOCKPROFIT_\"        \"TOTFAMINCLY_\"        \"IMPWTRCHSAV\"        \n",
       "[22] \"black\"               \"female\"              \"unemphd\"            \n",
       "[25] \"WTRCOMPUTERHD\"       \"own1\"                \"married\"            \n",
       "[28] \"young\"               \"riskgrp1\"            \"riskgrp2\"           \n",
       "[31] \"riskgrp3\"            \"riskgrp4\"            \"riskgrp5\"           \n",
       "[34] \"riskgrp6\"            \"healthins\"           \"benefitpension\"     \n",
       "[37] \"contributionpension\" \"BONDSPROFIT\"         \"divorce\"            \n",
       "[40] \"manager\"             \"finance\"             \"IMPSTOCK2_\"         \n",
       "[43] \"grad\"                \"onechild\"            \"twochild\"           \n",
       "[46] \"threechild\"          \"fourormorechild\"     \"conditions2\"        \n",
       "[49] \"conditions\"          \"WTRINHERITANCE\"      \"regionNE\"           \n",
       "[52] \"regionMW\"            \"regionS\"             \"regionW\"            \n",
       "[55] \"TOTfinasset\"         \"lninc\"               \"pctstock1\"          \n",
       "[58] \"WTRBONDS\"            \"pctbonds\"            \"regnum\"             \n",
       "[61] \"specialneeds2\"       \"specialneeds4\"       \"_Iyear_1999\"        \n",
       "[64] \"_Iyear_2001\"         \"_Iyear_2003\"         \"_Iyear_2005\"        \n",
       "[67] \"_Iyear_2007\"         \"_Iyear_2009\"         \"_Iyear_2011\"        "
      ]
     },
     "metadata": {},
     "output_type": "display_data"
    }
   ],
   "source": [
    "colnames(df)"
   ]
  },
  {
   "cell_type": "code",
   "execution_count": null,
   "metadata": {},
   "outputs": [],
   "source": [
    "# categorical variable: The number of children\n",
    "#'onechild' 'twochild' 'threechild' 'fourormorechild'\n",
    "# one hot coding"
   ]
  },
  {
   "cell_type": "markdown",
   "metadata": {},
   "source": [
    "# Dummy Variables"
   ]
  },
  {
   "cell_type": "code",
   "execution_count": 38,
   "metadata": {},
   "outputs": [],
   "source": [
    "N<-nrow(df)"
   ]
  },
  {
   "cell_type": "code",
   "execution_count": 36,
   "metadata": {},
   "outputs": [
    {
     "data": {
      "text/html": [
       "<strong>1:</strong> 0.149366658165434"
      ],
      "text/latex": [
       "\\textbf{1:} 0.149366658165434"
      ],
      "text/markdown": [
       "**1:** 0.149366658165434"
      ],
      "text/plain": [
       "        1 \n",
       "0.1493667 "
      ]
     },
     "metadata": {},
     "output_type": "display_data"
    }
   ],
   "source": [
    "prob.specialneeds2 =  prop.table(table(df$specialneeds2))\n",
    "prob.specialneeds2[2]"
   ]
  },
  {
   "cell_type": "code",
   "execution_count": 51,
   "metadata": {},
   "outputs": [
    {
     "data": {
      "text/html": [
       "<ol class=list-inline>\n",
       "\t<li>'IMPCHKSAV2_'</li>\n",
       "\t<li>'IMPIRA2_'</li>\n",
       "\t<li>'black'</li>\n",
       "\t<li>'female'</li>\n",
       "\t<li>'unemphd'</li>\n",
       "\t<li>'own1'</li>\n",
       "\t<li>'married'</li>\n",
       "\t<li>'young'</li>\n",
       "\t<li>'riskgrp1'</li>\n",
       "\t<li>'riskgrp2'</li>\n",
       "\t<li>'riskgrp3'</li>\n",
       "\t<li>'riskgrp4'</li>\n",
       "\t<li>'riskgrp5'</li>\n",
       "\t<li>'riskgrp6'</li>\n",
       "\t<li>'healthins'</li>\n",
       "\t<li>'benefitpension'</li>\n",
       "\t<li>'contributionpension'</li>\n",
       "\t<li>'divorce'</li>\n",
       "\t<li>'manager'</li>\n",
       "\t<li>'finance'</li>\n",
       "\t<li>'IMPSTOCK2_'</li>\n",
       "\t<li>'grad'</li>\n",
       "\t<li>'onechild'</li>\n",
       "\t<li>'twochild'</li>\n",
       "\t<li>'threechild'</li>\n",
       "\t<li>'fourormorechild'</li>\n",
       "\t<li>'WTRINHERITANCE'</li>\n",
       "\t<li>'regionNE'</li>\n",
       "\t<li>'regionMW'</li>\n",
       "\t<li>'regionS'</li>\n",
       "\t<li>'regionW'</li>\n",
       "\t<li>'WTRBONDS'</li>\n",
       "\t<li>'specialneeds2'</li>\n",
       "\t<li>'specialneeds4'</li>\n",
       "\t<li>'_Iyear_1999'</li>\n",
       "\t<li>'_Iyear_2001'</li>\n",
       "\t<li>'_Iyear_2003'</li>\n",
       "\t<li>'_Iyear_2005'</li>\n",
       "\t<li>'_Iyear_2007'</li>\n",
       "\t<li>'_Iyear_2009'</li>\n",
       "\t<li>'_Iyear_2011'</li>\n",
       "</ol>\n"
      ],
      "text/latex": [
       "\\begin{enumerate*}\n",
       "\\item 'IMPCHKSAV2\\_'\n",
       "\\item 'IMPIRA2\\_'\n",
       "\\item 'black'\n",
       "\\item 'female'\n",
       "\\item 'unemphd'\n",
       "\\item 'own1'\n",
       "\\item 'married'\n",
       "\\item 'young'\n",
       "\\item 'riskgrp1'\n",
       "\\item 'riskgrp2'\n",
       "\\item 'riskgrp3'\n",
       "\\item 'riskgrp4'\n",
       "\\item 'riskgrp5'\n",
       "\\item 'riskgrp6'\n",
       "\\item 'healthins'\n",
       "\\item 'benefitpension'\n",
       "\\item 'contributionpension'\n",
       "\\item 'divorce'\n",
       "\\item 'manager'\n",
       "\\item 'finance'\n",
       "\\item 'IMPSTOCK2\\_'\n",
       "\\item 'grad'\n",
       "\\item 'onechild'\n",
       "\\item 'twochild'\n",
       "\\item 'threechild'\n",
       "\\item 'fourormorechild'\n",
       "\\item 'WTRINHERITANCE'\n",
       "\\item 'regionNE'\n",
       "\\item 'regionMW'\n",
       "\\item 'regionS'\n",
       "\\item 'regionW'\n",
       "\\item 'WTRBONDS'\n",
       "\\item 'specialneeds2'\n",
       "\\item 'specialneeds4'\n",
       "\\item '\\_Iyear\\_1999'\n",
       "\\item '\\_Iyear\\_2001'\n",
       "\\item '\\_Iyear\\_2003'\n",
       "\\item '\\_Iyear\\_2005'\n",
       "\\item '\\_Iyear\\_2007'\n",
       "\\item '\\_Iyear\\_2009'\n",
       "\\item '\\_Iyear\\_2011'\n",
       "\\end{enumerate*}\n"
      ],
      "text/markdown": [
       "1. 'IMPCHKSAV2_'\n",
       "2. 'IMPIRA2_'\n",
       "3. 'black'\n",
       "4. 'female'\n",
       "5. 'unemphd'\n",
       "6. 'own1'\n",
       "7. 'married'\n",
       "8. 'young'\n",
       "9. 'riskgrp1'\n",
       "10. 'riskgrp2'\n",
       "11. 'riskgrp3'\n",
       "12. 'riskgrp4'\n",
       "13. 'riskgrp5'\n",
       "14. 'riskgrp6'\n",
       "15. 'healthins'\n",
       "16. 'benefitpension'\n",
       "17. 'contributionpension'\n",
       "18. 'divorce'\n",
       "19. 'manager'\n",
       "20. 'finance'\n",
       "21. 'IMPSTOCK2_'\n",
       "22. 'grad'\n",
       "23. 'onechild'\n",
       "24. 'twochild'\n",
       "25. 'threechild'\n",
       "26. 'fourormorechild'\n",
       "27. 'WTRINHERITANCE'\n",
       "28. 'regionNE'\n",
       "29. 'regionMW'\n",
       "30. 'regionS'\n",
       "31. 'regionW'\n",
       "32. 'WTRBONDS'\n",
       "33. 'specialneeds2'\n",
       "34. 'specialneeds4'\n",
       "35. '_Iyear_1999'\n",
       "36. '_Iyear_2001'\n",
       "37. '_Iyear_2003'\n",
       "38. '_Iyear_2005'\n",
       "39. '_Iyear_2007'\n",
       "40. '_Iyear_2009'\n",
       "41. '_Iyear_2011'\n",
       "\n",
       "\n"
      ],
      "text/plain": [
       " [1] \"IMPCHKSAV2_\"         \"IMPIRA2_\"            \"black\"              \n",
       " [4] \"female\"              \"unemphd\"             \"own1\"               \n",
       " [7] \"married\"             \"young\"               \"riskgrp1\"           \n",
       "[10] \"riskgrp2\"            \"riskgrp3\"            \"riskgrp4\"           \n",
       "[13] \"riskgrp5\"            \"riskgrp6\"            \"healthins\"          \n",
       "[16] \"benefitpension\"      \"contributionpension\" \"divorce\"            \n",
       "[19] \"manager\"             \"finance\"             \"IMPSTOCK2_\"         \n",
       "[22] \"grad\"                \"onechild\"            \"twochild\"           \n",
       "[25] \"threechild\"          \"fourormorechild\"     \"WTRINHERITANCE\"     \n",
       "[28] \"regionNE\"            \"regionMW\"            \"regionS\"            \n",
       "[31] \"regionW\"             \"WTRBONDS\"            \"specialneeds2\"      \n",
       "[34] \"specialneeds4\"       \"_Iyear_1999\"         \"_Iyear_2001\"        \n",
       "[37] \"_Iyear_2003\"         \"_Iyear_2005\"         \"_Iyear_2007\"        \n",
       "[40] \"_Iyear_2009\"         \"_Iyear_2011\"        "
      ]
     },
     "metadata": {},
     "output_type": "display_data"
    }
   ],
   "source": [
    "dummy_list <- names(df%>%select_if(~ all(. %in% 0:1)))\n",
    "dummy_list"
   ]
  },
  {
   "cell_type": "code",
   "execution_count": 119,
   "metadata": {},
   "outputs": [
    {
     "data": {
      "text/plain": [
       "\n",
       "        0         1 \n",
       "0.2489161 0.7510839 "
      ]
     },
     "metadata": {},
     "output_type": "display_data"
    }
   ],
   "source": [
    "prop.table(table(df$IMPCHKSAV2_))"
   ]
  },
  {
   "cell_type": "code",
   "execution_count": 122,
   "metadata": {},
   "outputs": [
    {
     "data": {
      "text/plain": [
       "NULL"
      ]
     },
     "metadata": {},
     "output_type": "display_data"
    }
   ],
   "source": [
    "df$val"
   ]
  },
  {
   "cell_type": "code",
   "execution_count": 121,
   "metadata": {},
   "outputs": [
    {
     "name": "stdout",
     "output_type": "stream",
     "text": [
      "[1] \"IMPCHKSAV2_\"\n",
      "NULL\n",
      "< table of extent 0 >\n",
      "[1] \"IMPIRA2_\"\n",
      "NULL\n",
      "< table of extent 0 >\n",
      "[1] \"black\"\n",
      "NULL\n",
      "< table of extent 0 >\n",
      "[1] \"female\"\n",
      "NULL\n",
      "< table of extent 0 >\n",
      "[1] \"unemphd\"\n",
      "NULL\n",
      "< table of extent 0 >\n",
      "[1] \"own1\"\n",
      "NULL\n",
      "< table of extent 0 >\n",
      "[1] \"married\"\n",
      "NULL\n",
      "< table of extent 0 >\n",
      "[1] \"young\"\n",
      "NULL\n",
      "< table of extent 0 >\n",
      "[1] \"riskgrp1\"\n",
      "NULL\n",
      "< table of extent 0 >\n",
      "[1] \"riskgrp2\"\n",
      "NULL\n",
      "< table of extent 0 >\n",
      "[1] \"riskgrp3\"\n",
      "NULL\n",
      "< table of extent 0 >\n",
      "[1] \"riskgrp4\"\n",
      "NULL\n",
      "< table of extent 0 >\n",
      "[1] \"riskgrp5\"\n",
      "NULL\n",
      "< table of extent 0 >\n",
      "[1] \"riskgrp6\"\n",
      "NULL\n",
      "< table of extent 0 >\n",
      "[1] \"healthins\"\n",
      "NULL\n",
      "< table of extent 0 >\n",
      "[1] \"benefitpension\"\n",
      "NULL\n",
      "< table of extent 0 >\n",
      "[1] \"contributionpension\"\n",
      "NULL\n",
      "< table of extent 0 >\n",
      "[1] \"divorce\"\n",
      "NULL\n",
      "< table of extent 0 >\n",
      "[1] \"manager\"\n",
      "NULL\n",
      "< table of extent 0 >\n",
      "[1] \"finance\"\n",
      "NULL\n",
      "< table of extent 0 >\n",
      "[1] \"IMPSTOCK2_\"\n",
      "NULL\n",
      "< table of extent 0 >\n",
      "[1] \"grad\"\n",
      "NULL\n",
      "< table of extent 0 >\n",
      "[1] \"onechild\"\n",
      "NULL\n",
      "< table of extent 0 >\n",
      "[1] \"twochild\"\n",
      "NULL\n",
      "< table of extent 0 >\n",
      "[1] \"threechild\"\n",
      "NULL\n",
      "< table of extent 0 >\n",
      "[1] \"fourormorechild\"\n",
      "NULL\n",
      "< table of extent 0 >\n",
      "[1] \"WTRINHERITANCE\"\n",
      "NULL\n",
      "< table of extent 0 >\n",
      "[1] \"regionNE\"\n",
      "NULL\n",
      "< table of extent 0 >\n",
      "[1] \"regionMW\"\n",
      "NULL\n",
      "< table of extent 0 >\n",
      "[1] \"regionS\"\n",
      "NULL\n",
      "< table of extent 0 >\n",
      "[1] \"regionW\"\n",
      "NULL\n",
      "< table of extent 0 >\n",
      "[1] \"WTRBONDS\"\n",
      "NULL\n",
      "< table of extent 0 >\n",
      "[1] \"specialneeds2\"\n",
      "NULL\n",
      "< table of extent 0 >\n",
      "[1] \"specialneeds4\"\n",
      "NULL\n",
      "< table of extent 0 >\n",
      "[1] \"_Iyear_1999\"\n",
      "NULL\n",
      "< table of extent 0 >\n",
      "[1] \"_Iyear_2001\"\n",
      "NULL\n",
      "< table of extent 0 >\n",
      "[1] \"_Iyear_2003\"\n",
      "NULL\n",
      "< table of extent 0 >\n",
      "[1] \"_Iyear_2005\"\n",
      "NULL\n",
      "< table of extent 0 >\n",
      "[1] \"_Iyear_2007\"\n",
      "NULL\n",
      "< table of extent 0 >\n",
      "[1] \"_Iyear_2009\"\n",
      "NULL\n",
      "< table of extent 0 >\n",
      "[1] \"_Iyear_2011\"\n",
      "NULL\n",
      "< table of extent 0 >\n"
     ]
    }
   ],
   "source": [
    "# specialneeds2 (mental disability)\n",
    "\n",
    "for (val in dummy_list){\n",
    "    print(val)\n",
    "    print(df$val) # there must be variable name instead of literal 'val'\n",
    "    print(table(df$val))[2]\n",
    "    #nam <- paste(\"prob\",val, sep = \"\")\n",
    "    #print(nam)\n",
    "    #assign(nam, paste(prop.table(table(df$val))[2]))\n",
    "   #print(nam)\n",
    "    \n",
    "    #nam2 <- paste(val, \"_sim\")\n",
    "    #assign(nam2, rbinom(N,1,nam))\n",
    "}"
   ]
  },
  {
   "cell_type": "code",
   "execution_count": 106,
   "metadata": {},
   "outputs": [
    {
     "name": "stdout",
     "output_type": "stream",
     "text": [
      "numeric(0)\n"
     ]
    },
    {
     "data": {
      "text/html": [
       "'NA'"
      ],
      "text/latex": [
       "'NA'"
      ],
      "text/markdown": [
       "'NA'"
      ],
      "text/plain": [
       "[1] \"NA\""
      ]
     },
     "metadata": {},
     "output_type": "display_data"
    }
   ],
   "source": [
    "v1<- paste(prop.table(table(df$val)))\n",
    "print(v1)\n",
    "probIMPCHKSAV2_"
   ]
  },
  {
   "cell_type": "code",
   "execution_count": 108,
   "metadata": {},
   "outputs": [
    {
     "name": "stdout",
     "output_type": "stream",
     "text": [
      "[1] \"0.751083907166539\"\n",
      "[1] \"0.751083907166539\"\n"
     ]
    }
   ],
   "source": [
    "v1<- paste(prop.table(table(df$IMPCHKSAV2_))[2])\n",
    "print(v1)\n",
    "\n",
    "assign(v1,prop.table(table(df$IMPCHKSAV2_))[1])\n",
    "print(v1)"
   ]
  },
  {
   "cell_type": "code",
   "execution_count": 52,
   "metadata": {},
   "outputs": [],
   "source": [
    "\n",
    "for(i in 1:10) { \n",
    " nam <- paste(\"A\", i, sep = \"\")\n",
    " assign(nam, rnorm(3)+d)\n",
    "}"
   ]
  },
  {
   "cell_type": "code",
   "execution_count": 54,
   "metadata": {},
   "outputs": [
    {
     "data": {
      "text/html": [
       "<ol class=list-inline>\n",
       "\t<li>4.33119630711533</li>\n",
       "\t<li>4.84640402517954</li>\n",
       "\t<li>6.99169232532051</li>\n",
       "</ol>\n"
      ],
      "text/latex": [
       "\\begin{enumerate*}\n",
       "\\item 4.33119630711533\n",
       "\\item 4.84640402517954\n",
       "\\item 6.99169232532051\n",
       "\\end{enumerate*}\n"
      ],
      "text/markdown": [
       "1. 4.33119630711533\n",
       "2. 4.84640402517954\n",
       "3. 6.99169232532051\n",
       "\n",
       "\n"
      ],
      "text/plain": [
       "[1] 4.331196 4.846404 6.991692"
      ]
     },
     "metadata": {},
     "output_type": "display_data"
    }
   ],
   "source": [
    "A1"
   ]
  },
  {
   "cell_type": "code",
   "execution_count": null,
   "metadata": {},
   "outputs": [],
   "source": []
  }
 ],
 "metadata": {
  "kernelspec": {
   "display_name": "R",
   "language": "R",
   "name": "ir"
  },
  "language_info": {
   "codemirror_mode": "r",
   "file_extension": ".r",
   "mimetype": "text/x-r-source",
   "name": "R",
   "pygments_lexer": "r",
   "version": "3.6.1"
  }
 },
 "nbformat": 4,
 "nbformat_minor": 4
}
